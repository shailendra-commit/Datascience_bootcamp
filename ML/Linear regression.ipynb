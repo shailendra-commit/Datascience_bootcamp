{
 "cells": [
  {
   "cell_type": "markdown",
   "id": "60f0cd91",
   "metadata": {},
   "source": [
    "#### Linear Regression"
   ]
  },
  {
   "cell_type": "markdown",
   "id": "26384751",
   "metadata": {},
   "source": [
    "- Linear regression is a statistical method used to model the relationship between a dependent variable and one or more independent variables. It provides valuable insights for prediction and data analysis.\n",
    "- Linear regression is also a type of supervised machine-learning algorithm \n",
    "- It learns from the labelled datasets and maps the data points with most optimized linear functions which can be used for prediction on new datasets\n"
   ]
  },
  {
   "cell_type": "markdown",
   "id": "c1a262e5",
   "metadata": {},
   "source": [
    "<h4> <b> Advantages </b></h4>\n",
    "\n",
    "1. The interpretability of linear regression is one of its greatest strengths. \n",
    "2. The model’s equation offers clear coefficients that illustrate the influence of each independent variable on the dependent variable, enhancing our understanding of the underlying relationships"
   ]
  },
  {
   "cell_type": "code",
   "execution_count": 1,
   "id": "4310b4d7",
   "metadata": {},
   "outputs": [],
   "source": [
    "import numpy as np\n",
    "import pandas as pd\n",
    "from sklearn import linear_model"
   ]
  },
  {
   "cell_type": "code",
   "execution_count": null,
   "id": "60085d0b",
   "metadata": {},
   "outputs": [],
   "source": []
  }
 ],
 "metadata": {
  "kernelspec": {
   "display_name": "Python 3 (ipykernel)",
   "language": "python",
   "name": "python3"
  },
  "language_info": {
   "codemirror_mode": {
    "name": "ipython",
    "version": 3
   },
   "file_extension": ".py",
   "mimetype": "text/x-python",
   "name": "python",
   "nbconvert_exporter": "python",
   "pygments_lexer": "ipython3",
   "version": "3.10.9"
  }
 },
 "nbformat": 4,
 "nbformat_minor": 5
}
