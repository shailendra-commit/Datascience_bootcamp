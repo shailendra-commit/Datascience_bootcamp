{
 "cells": [
  {
   "cell_type": "markdown",
   "id": "60f0cd91",
   "metadata": {},
   "source": [
    "#### Linear Regression"
   ]
  },
  {
   "cell_type": "markdown",
   "id": "26384751",
   "metadata": {},
   "source": [
    "- Linear regression is a statistical method used to model the relationship between a dependent variable and one or more independent variables. It provides valuable insights for prediction and data analysis.\n",
    "- Linear regression is also a type of supervised machine-learning algorithm \n",
    "- It learns from the labelled datasets and maps the data points with most optimized linear functions which can be used for prediction on new datasets\n"
   ]
  },
  {
   "cell_type": "markdown",
   "id": "c1a262e5",
   "metadata": {},
   "source": [
    "<h4> <b> Advantages </b></h4>\n",
    "\n",
    "1. The interpretability of linear regression is one of its greatest strengths. \n",
    "2. The model’s equation offers clear coefficients that illustrate the influence of each independent variable on the dependent variable, enhancing our understanding of the underlying relationships"
   ]
  },
  {
   "cell_type": "code",
   "execution_count": 1,
   "id": "4310b4d7",
   "metadata": {},
   "outputs": [],
   "source": [
    "import numpy as np\n",
    "import pandas as pd\n",
    "from sklearn import linear_model\n",
    "import matplotlib.pyplot as plt\n",
    "%matplotlib inline"
   ]
  },
  {
   "cell_type": "code",
   "execution_count": 36,
   "id": "60085d0b",
   "metadata": {},
   "outputs": [],
   "source": [
    "# read data\n",
    "df=pd.read_csv(\"weight-height.csv\")"
   ]
  },
  {
   "cell_type": "code",
   "execution_count": 37,
   "id": "f0371be0",
   "metadata": {},
   "outputs": [],
   "source": [
    "df=df.head(300)    ## it is a function to perform certain action"
   ]
  },
  {
   "cell_type": "code",
   "execution_count": 38,
   "id": "2666c9b8",
   "metadata": {},
   "outputs": [
    {
     "data": {
      "text/plain": [
       "(300, 3)"
      ]
     },
     "execution_count": 38,
     "metadata": {},
     "output_type": "execute_result"
    }
   ],
   "source": [
    "df.shape  ## df.shape is attribute not a function"
   ]
  },
  {
   "cell_type": "code",
   "execution_count": 39,
   "id": "082b47f1",
   "metadata": {},
   "outputs": [
    {
     "data": {
      "text/plain": [
       "Index(['Gender', 'Height', 'Weight'], dtype='object')"
      ]
     },
     "execution_count": 39,
     "metadata": {},
     "output_type": "execute_result"
    }
   ],
   "source": [
    "df.columns"
   ]
  },
  {
   "cell_type": "code",
   "execution_count": 40,
   "id": "783bd5d0",
   "metadata": {},
   "outputs": [
    {
     "data": {
      "text/html": [
       "<div>\n",
       "<style scoped>\n",
       "    .dataframe tbody tr th:only-of-type {\n",
       "        vertical-align: middle;\n",
       "    }\n",
       "\n",
       "    .dataframe tbody tr th {\n",
       "        vertical-align: top;\n",
       "    }\n",
       "\n",
       "    .dataframe thead th {\n",
       "        text-align: right;\n",
       "    }\n",
       "</style>\n",
       "<table border=\"1\" class=\"dataframe\">\n",
       "  <thead>\n",
       "    <tr style=\"text-align: right;\">\n",
       "      <th></th>\n",
       "      <th>Height</th>\n",
       "      <th>Weight</th>\n",
       "    </tr>\n",
       "  </thead>\n",
       "  <tbody>\n",
       "    <tr>\n",
       "      <th>count</th>\n",
       "      <td>300.000000</td>\n",
       "      <td>300.000000</td>\n",
       "    </tr>\n",
       "    <tr>\n",
       "      <th>mean</th>\n",
       "      <td>68.828232</td>\n",
       "      <td>186.364443</td>\n",
       "    </tr>\n",
       "    <tr>\n",
       "      <th>std</th>\n",
       "      <td>2.777917</td>\n",
       "      <td>19.913064</td>\n",
       "    </tr>\n",
       "    <tr>\n",
       "      <th>min</th>\n",
       "      <td>61.477809</td>\n",
       "      <td>135.655876</td>\n",
       "    </tr>\n",
       "    <tr>\n",
       "      <th>25%</th>\n",
       "      <td>66.980543</td>\n",
       "      <td>171.666841</td>\n",
       "    </tr>\n",
       "    <tr>\n",
       "      <th>50%</th>\n",
       "      <td>68.542843</td>\n",
       "      <td>184.448493</td>\n",
       "    </tr>\n",
       "    <tr>\n",
       "      <th>75%</th>\n",
       "      <td>70.973199</td>\n",
       "      <td>199.147674</td>\n",
       "    </tr>\n",
       "    <tr>\n",
       "      <th>max</th>\n",
       "      <td>76.709835</td>\n",
       "      <td>241.893563</td>\n",
       "    </tr>\n",
       "  </tbody>\n",
       "</table>\n",
       "</div>"
      ],
      "text/plain": [
       "           Height      Weight\n",
       "count  300.000000  300.000000\n",
       "mean    68.828232  186.364443\n",
       "std      2.777917   19.913064\n",
       "min     61.477809  135.655876\n",
       "25%     66.980543  171.666841\n",
       "50%     68.542843  184.448493\n",
       "75%     70.973199  199.147674\n",
       "max     76.709835  241.893563"
      ]
     },
     "execution_count": 40,
     "metadata": {},
     "output_type": "execute_result"
    }
   ],
   "source": [
    "df.describe()"
   ]
  },
  {
   "cell_type": "code",
   "execution_count": 41,
   "id": "a146d1c3",
   "metadata": {},
   "outputs": [
    {
     "name": "stdout",
     "output_type": "stream",
     "text": [
      "<class 'pandas.core.frame.DataFrame'>\n",
      "RangeIndex: 300 entries, 0 to 299\n",
      "Data columns (total 3 columns):\n",
      " #   Column  Non-Null Count  Dtype  \n",
      "---  ------  --------------  -----  \n",
      " 0   Gender  300 non-null    object \n",
      " 1   Height  300 non-null    float64\n",
      " 2   Weight  300 non-null    float64\n",
      "dtypes: float64(2), object(1)\n",
      "memory usage: 7.2+ KB\n"
     ]
    }
   ],
   "source": [
    "df.info()"
   ]
  },
  {
   "cell_type": "code",
   "execution_count": 42,
   "id": "81dfd303",
   "metadata": {},
   "outputs": [
    {
     "data": {
      "text/plain": [
       "Male    300\n",
       "Name: Gender, dtype: int64"
      ]
     },
     "execution_count": 42,
     "metadata": {},
     "output_type": "execute_result"
    }
   ],
   "source": [
    "df['Gender'].value_counts()"
   ]
  },
  {
   "cell_type": "code",
   "execution_count": 43,
   "id": "6ed7fbf0",
   "metadata": {},
   "outputs": [
    {
     "data": {
      "text/plain": [
       "Text(0, 0.5, 'Height')"
      ]
     },
     "execution_count": 43,
     "metadata": {},
     "output_type": "execute_result"
    },
    {
     "data": {
      "image/png": "[encoded data removed]",
      "text/plain": [
       "<Figure size 640x480 with 1 Axes>"
      ]
     },
     "metadata": {},
     "output_type": "display_data"
    }
   ],
   "source": [
    "plt.scatter(df['Weight'],df['Height'])\n",
    "plt.xlabel('Weight')\n",
    "plt.ylabel('Height')"
   ]
  },
  {
   "cell_type": "code",
   "execution_count": 44,
   "id": "78ac04cc",
   "metadata": {},
   "outputs": [
    {
     "name": "stderr",
     "output_type": "stream",
     "text": [
      "C:\\Users\\shailendra.kumar\\AppData\\Local\\Temp\\ipykernel_23944\\1134722465.py:1: FutureWarning: The default value of numeric_only in DataFrame.corr is deprecated. In a future version, it will default to False. Select only valid columns or specify the value of numeric_only to silence this warning.\n",
      "  df.corr()\n"
     ]
    },
    {
     "data": {
      "text/html": [
       "<div>\n",
       "<style scoped>\n",
       "    .dataframe tbody tr th:only-of-type {\n",
       "        vertical-align: middle;\n",
       "    }\n",
       "\n",
       "    .dataframe tbody tr th {\n",
       "        vertical-align: top;\n",
       "    }\n",
       "\n",
       "    .dataframe thead th {\n",
       "        text-align: right;\n",
       "    }\n",
       "</style>\n",
       "<table border=\"1\" class=\"dataframe\">\n",
       "  <thead>\n",
       "    <tr style=\"text-align: right;\">\n",
       "      <th></th>\n",
       "      <th>Height</th>\n",
       "      <th>Weight</th>\n",
       "    </tr>\n",
       "  </thead>\n",
       "  <tbody>\n",
       "    <tr>\n",
       "      <th>Height</th>\n",
       "      <td>1.000000</td>\n",
       "      <td>0.833593</td>\n",
       "    </tr>\n",
       "    <tr>\n",
       "      <th>Weight</th>\n",
       "      <td>0.833593</td>\n",
       "      <td>1.000000</td>\n",
       "    </tr>\n",
       "  </tbody>\n",
       "</table>\n",
       "</div>"
      ],
      "text/plain": [
       "          Height    Weight\n",
       "Height  1.000000  0.833593\n",
       "Weight  0.833593  1.000000"
      ]
     },
     "execution_count": 44,
     "metadata": {},
     "output_type": "execute_result"
    }
   ],
   "source": [
    "df.corr()"
   ]
  },
  {
   "cell_type": "code",
   "execution_count": 45,
   "id": "ecda352e",
   "metadata": {},
   "outputs": [],
   "source": [
    "import seaborn as sns"
   ]
  },
  {
   "cell_type": "code",
   "execution_count": 46,
   "id": "19c2874d",
   "metadata": {},
   "outputs": [
    {
     "data": {
      "text/plain": [
       "<seaborn.axisgrid.PairGrid at 0x1d9ebbe3460>"
      ]
     },
     "execution_count": 46,
     "metadata": {},
     "output_type": "execute_result"
    },
    {
     "data": {
      "image/png": "[encoded data removed]",
      "text/plain": [
       "<Figure size 500x500 with 6 Axes>"
      ]
     },
     "metadata": {},
     "output_type": "display_data"
    }
   ],
   "source": [
    "sns.pairplot(df)"
   ]
  },
  {
   "cell_type": "code",
   "execution_count": 47,
   "id": "cc253809",
   "metadata": {},
   "outputs": [],
   "source": [
    "X=df[['Weight']] ## Independent feature must be 2 dimension because it give importance to column\n",
    "y=df['Height']"
   ]
  },
  {
   "cell_type": "code",
   "execution_count": 48,
   "id": "d9ff5e5e",
   "metadata": {},
   "outputs": [
    {
     "data": {
      "text/plain": [
       "pandas.core.frame.DataFrame"
      ]
     },
     "execution_count": 48,
     "metadata": {},
     "output_type": "execute_result"
    }
   ],
   "source": [
    "type(X)"
   ]
  },
  {
   "cell_type": "code",
   "execution_count": 49,
   "id": "a779830f",
   "metadata": {},
   "outputs": [],
   "source": [
    "Weight_X=np.array(X)"
   ]
  },
  {
   "cell_type": "code",
   "execution_count": 50,
   "id": "ba46853e",
   "metadata": {},
   "outputs": [
    {
     "name": "stdout",
     "output_type": "stream",
     "text": [
      "(300, 1)\n",
      "(300,)\n"
     ]
    }
   ],
   "source": [
    "print(X.shape)\n",
    "print(y.shape)"
   ]
  },
  {
   "cell_type": "code",
   "execution_count": 51,
   "id": "fce570fe",
   "metadata": {},
   "outputs": [],
   "source": [
    "## Train test split\n",
    "from sklearn.model_selection import train_test_split"
   ]
  },
  {
   "cell_type": "code",
   "execution_count": 52,
   "id": "a5ff1463",
   "metadata": {},
   "outputs": [],
   "source": [
    "X_train,X_test,y_train,y_test=train_test_split(X,y,test_size=0.25,random_state=42)"
   ]
  },
  {
   "cell_type": "code",
   "execution_count": 53,
   "id": "eeac8cff",
   "metadata": {},
   "outputs": [
    {
     "name": "stdout",
     "output_type": "stream",
     "text": [
      "(225, 1)\n",
      "(225,)\n"
     ]
    }
   ],
   "source": [
    "print(X_train.shape)\n",
    "print(y_train.shape)"
   ]
  },
  {
   "cell_type": "markdown",
   "id": "e1afdc44",
   "metadata": {},
   "source": [
    "### Strandardization"
   ]
  },
  {
   "cell_type": "code",
   "execution_count": 54,
   "id": "12c14ac7",
   "metadata": {},
   "outputs": [],
   "source": [
    "from sklearn.preprocessing import StandardScaler"
   ]
  },
  {
   "cell_type": "code",
   "execution_count": 55,
   "id": "e8916310",
   "metadata": {},
   "outputs": [],
   "source": [
    "scaler=StandardScaler()"
   ]
  },
  {
   "cell_type": "code",
   "execution_count": 56,
   "id": "4b731fc4",
   "metadata": {},
   "outputs": [],
   "source": [
    "X_train=scaler.fit_transform(X_train)"
   ]
  },
  {
   "cell_type": "code",
   "execution_count": 57,
   "id": "37b6a6c6",
   "metadata": {},
   "outputs": [
    {
     "data": {
      "text/plain": [
       "array([[-8.94547430e-02],\n",
       "       [ 2.60644013e+00],\n",
       "       [-1.28864651e+00],\n",
       "       [-8.65508217e-02],\n",
       "       [ 1.48832526e+00],\n",
       "       [ 8.63151323e-01],\n",
       "       [-8.36255113e-01],\n",
       "       [-1.92094246e-01],\n",
       "       [ 3.36626613e-01],\n",
       "       [-8.87356103e-01],\n",
       "       [-1.12067867e+00],\n",
       "       [-4.06741969e-01],\n",
       "       [-4.55643207e-01],\n",
       "       [-7.08514455e-01],\n",
       "       [ 1.86290347e-02],\n",
       "       [ 1.83735841e+00],\n",
       "       [-9.32798031e-01],\n",
       "       [-1.47410196e-01],\n",
       "       [ 4.53997571e-01],\n",
       "       [-1.22278503e-01],\n",
       "       [ 4.93888956e-01],\n",
       "       [-1.43820922e-01],\n",
       "       [ 1.50716904e+00],\n",
       "       [ 4.79895462e-02],\n",
       "       [ 1.73704020e+00],\n",
       "       [-2.55088694e+00],\n",
       "       [ 5.15212350e-01],\n",
       "       [ 1.34528554e+00],\n",
       "       [ 4.99938073e-01],\n",
       "       [-2.59310325e-01],\n",
       "       [ 9.80867061e-01],\n",
       "       [-8.41158887e-01],\n",
       "       [-1.26882749e-02],\n",
       "       [ 1.24248148e+00],\n",
       "       [ 3.45901099e-01],\n",
       "       [-2.88881901e-02],\n",
       "       [ 9.33572953e-01],\n",
       "       [ 1.11508230e+00],\n",
       "       [ 2.27649563e+00],\n",
       "       [-1.48099639e+00],\n",
       "       [ 8.43379903e-01],\n",
       "       [ 7.92754662e-01],\n",
       "       [ 6.93371064e-01],\n",
       "       [ 2.30424594e+00],\n",
       "       [-5.07503235e-01],\n",
       "       [-1.15622890e+00],\n",
       "       [-8.29511511e-01],\n",
       "       [ 7.97390957e-01],\n",
       "       [-1.35912196e+00],\n",
       "       [-1.60925998e-01],\n",
       "       [ 5.84220020e-01],\n",
       "       [-1.12887923e+00],\n",
       "       [ 7.89199296e-01],\n",
       "       [ 1.12159683e+00],\n",
       "       [-1.56548083e+00],\n",
       "       [-3.20581061e-01],\n",
       "       [ 9.42667745e-01],\n",
       "       [-7.12176807e-01],\n",
       "       [ 1.59178887e-01],\n",
       "       [-9.55101800e-01],\n",
       "       [ 1.79678363e+00],\n",
       "       [ 6.12416070e-01],\n",
       "       [-4.27123464e-01],\n",
       "       [-1.20313102e+00],\n",
       "       [ 1.33674370e+00],\n",
       "       [ 1.86776079e+00],\n",
       "       [-1.37511320e-01],\n",
       "       [ 3.55153569e-01],\n",
       "       [-9.68659394e-01],\n",
       "       [-6.37461043e-01],\n",
       "       [-1.44506386e+00],\n",
       "       [ 5.16040076e-01],\n",
       "       [ 1.51211831e+00],\n",
       "       [-1.60845648e+00],\n",
       "       [-6.65428196e-01],\n",
       "       [ 1.80103370e-01],\n",
       "       [-9.95145571e-01],\n",
       "       [-5.84191708e-01],\n",
       "       [-4.66570921e-01],\n",
       "       [ 3.68348273e-01],\n",
       "       [-6.87355142e-01],\n",
       "       [-4.87673752e-01],\n",
       "       [-1.56267428e+00],\n",
       "       [-7.88857932e-01],\n",
       "       [ 1.19393941e-01],\n",
       "       [ 9.98444966e-01],\n",
       "       [-3.87202620e-02],\n",
       "       [-9.63678907e-01],\n",
       "       [ 3.36286115e-01],\n",
       "       [-5.55853998e-01],\n",
       "       [-2.69614555e-01],\n",
       "       [-1.27310943e+00],\n",
       "       [ 5.37453464e-01],\n",
       "       [-8.01038954e-01],\n",
       "       [ 7.48243594e-01],\n",
       "       [-1.03480710e+00],\n",
       "       [ 3.86869644e-01],\n",
       "       [-8.66014200e-01],\n",
       "       [ 3.93875102e-01],\n",
       "       [ 5.61473425e-01],\n",
       "       [ 1.91034851e-01],\n",
       "       [-6.09117253e-01],\n",
       "       [-9.07981338e-02],\n",
       "       [ 2.61076117e-01],\n",
       "       [-6.45738289e-01],\n",
       "       [ 4.95554398e-01],\n",
       "       [ 2.80700366e+00],\n",
       "       [-1.27125540e+00],\n",
       "       [ 1.40327965e+00],\n",
       "       [ 7.35474915e-01],\n",
       "       [ 4.56709282e-02],\n",
       "       [-3.03292460e-01],\n",
       "       [ 9.66005566e-01],\n",
       "       [-6.78920700e-01],\n",
       "       [ 5.67507908e-01],\n",
       "       [ 5.97328015e-01],\n",
       "       [-3.84158322e-01],\n",
       "       [-2.61562973e-02],\n",
       "       [ 1.91084408e+00],\n",
       "       [-9.05538385e-01],\n",
       "       [ 1.38719258e+00],\n",
       "       [-1.49736279e-01],\n",
       "       [ 8.64166235e-01],\n",
       "       [ 1.03854991e+00],\n",
       "       [-9.71660294e-01],\n",
       "       [ 1.01442331e+00],\n",
       "       [-1.09925885e+00],\n",
       "       [ 4.43644369e-01],\n",
       "       [-9.95267463e-01],\n",
       "       [ 6.22654212e-01],\n",
       "       [ 3.81305443e-02],\n",
       "       [ 1.43679607e-01],\n",
       "       [-9.32426546e-01],\n",
       "       [ 4.56674703e-01],\n",
       "       [ 1.19494956e+00],\n",
       "       [ 6.63752101e-02],\n",
       "       [ 2.68449068e+00],\n",
       "       [-5.19768243e-01],\n",
       "       [-8.27069633e-02],\n",
       "       [ 1.15418731e-03],\n",
       "       [-3.21341327e-01],\n",
       "       [-1.08810651e+00],\n",
       "       [-3.75524294e-01],\n",
       "       [-3.19131624e-01],\n",
       "       [-7.11103317e-01],\n",
       "       [-1.82900124e+00],\n",
       "       [ 5.19053059e-01],\n",
       "       [-4.53665387e-01],\n",
       "       [-8.09939163e-01],\n",
       "       [ 2.14472782e+00],\n",
       "       [-2.31543131e-01],\n",
       "       [ 7.61442116e-02],\n",
       "       [ 6.26536299e-01],\n",
       "       [-5.92600917e-01],\n",
       "       [ 1.11966238e+00],\n",
       "       [-1.16639172e+00],\n",
       "       [-7.38726158e-01],\n",
       "       [-9.86620875e-02],\n",
       "       [ 1.14418160e+00],\n",
       "       [ 1.02677262e-01],\n",
       "       [ 1.00172112e-02],\n",
       "       [ 1.15165480e+00],\n",
       "       [-1.07225523e+00],\n",
       "       [ 2.26417391e+00],\n",
       "       [-8.65155563e-01],\n",
       "       [ 7.79991376e-01],\n",
       "       [ 1.43068679e+00],\n",
       "       [-8.27508848e-01],\n",
       "       [-1.26295006e+00],\n",
       "       [-5.34028197e-01],\n",
       "       [-1.24857046e-01],\n",
       "       [ 2.46112653e+00],\n",
       "       [ 5.13351521e-01],\n",
       "       [ 6.85496806e-01],\n",
       "       [ 1.70498640e+00],\n",
       "       [-3.54582773e-01],\n",
       "       [-2.43483947e-01],\n",
       "       [-4.01131537e-01],\n",
       "       [-1.20661433e+00],\n",
       "       [-1.02807250e+00],\n",
       "       [-4.16113790e-01],\n",
       "       [ 1.26622020e+00],\n",
       "       [-2.42221420e-01],\n",
       "       [-1.31604683e+00],\n",
       "       [ 9.04193044e-01],\n",
       "       [-2.63440610e-01],\n",
       "       [-6.46127244e-01],\n",
       "       [-6.75587774e-01],\n",
       "       [ 1.61922232e-01],\n",
       "       [-6.11543615e-01],\n",
       "       [-1.18295564e+00],\n",
       "       [-8.63723611e-01],\n",
       "       [-1.77809247e+00],\n",
       "       [ 4.87168778e-01],\n",
       "       [-1.13045960e+00],\n",
       "       [-8.32036223e-01],\n",
       "       [-1.04012708e+00],\n",
       "       [-3.85640859e-01],\n",
       "       [-1.50016179e+00],\n",
       "       [ 5.95459987e-01],\n",
       "       [ 3.60668956e-01],\n",
       "       [ 7.86831156e-01],\n",
       "       [ 6.03326545e-01],\n",
       "       [ 2.91442073e-01],\n",
       "       [ 6.16529135e-01],\n",
       "       [-9.15114344e-01],\n",
       "       [ 5.79772167e-01],\n",
       "       [-4.40872699e-01],\n",
       "       [-1.74068867e+00],\n",
       "       [ 2.23544448e+00],\n",
       "       [-1.40268568e+00],\n",
       "       [ 1.21548092e+00],\n",
       "       [ 2.75569247e-01],\n",
       "       [-1.99189096e+00],\n",
       "       [-4.42042045e-01],\n",
       "       [ 3.63096495e-01],\n",
       "       [-6.88931256e-01],\n",
       "       [-2.90840443e-01],\n",
       "       [-6.84449804e-01],\n",
       "       [-6.11229150e-01],\n",
       "       [-3.21755520e-01],\n",
       "       [ 1.07408752e+00],\n",
       "       [-1.39535927e+00],\n",
       "       [ 7.04412755e-01],\n",
       "       [-1.60578424e+00]])"
      ]
     },
     "execution_count": 57,
     "metadata": {},
     "output_type": "execute_result"
    }
   ],
   "source": [
    "X_train"
   ]
  },
  {
   "cell_type": "markdown",
   "id": "b0a55413",
   "metadata": {},
   "source": [
    "#### here only transform is done to avoid data leakage"
   ]
  },
  {
   "cell_type": "code",
   "execution_count": 58,
   "id": "b8d9682b",
   "metadata": {},
   "outputs": [],
   "source": [
    "X_test = scaler.transform(X_test)"
   ]
  },
  {
   "cell_type": "code",
   "execution_count": 59,
   "id": "dabe1cb2",
   "metadata": {},
   "outputs": [],
   "source": [
    "from sklearn.linear_model import LinearRegression"
   ]
  },
  {
   "cell_type": "code",
   "execution_count": 60,
   "id": "744d0721",
   "metadata": {},
   "outputs": [],
   "source": [
    "regression=LinearRegression()"
   ]
  },
  {
   "cell_type": "code",
   "execution_count": 61,
   "id": "5a891f30",
   "metadata": {},
   "outputs": [
    {
     "data": {
      "text/html": [
       "<style>#sk-container-id-2 {color: black;background-color: white;}#sk-container-id-2 pre{padding: 0;}#sk-container-id-2 div.sk-toggleable {background-color: white;}#sk-container-id-2 label.sk-toggleable__label {cursor: pointer;display: block;width: 100%;margin-bottom: 0;padding: 0.3em;box-sizing: border-box;text-align: center;}#sk-container-id-2 label.sk-toggleable__label-arrow:before {content: \"▸\";float: left;margin-right: 0.25em;color: #696969;}#sk-container-id-2 label.sk-toggleable__label-arrow:hover:before {color: black;}#sk-container-id-2 div.sk-estimator:hover label.sk-toggleable__label-arrow:before {color: black;}#sk-container-id-2 div.sk-toggleable__content {max-height: 0;max-width: 0;overflow: hidden;text-align: left;background-color: #f0f8ff;}#sk-container-id-2 div.sk-toggleable__content pre {margin: 0.2em;color: black;border-radius: 0.25em;background-color: #f0f8ff;}#sk-container-id-2 input.sk-toggleable__control:checked~div.sk-toggleable__content {max-height: 200px;max-width: 100%;overflow: auto;}#sk-container-id-2 input.sk-toggleable__control:checked~label.sk-toggleable__label-arrow:before {content: \"▾\";}#sk-container-id-2 div.sk-estimator input.sk-toggleable__control:checked~label.sk-toggleable__label {background-color: #d4ebff;}#sk-container-id-2 div.sk-label input.sk-toggleable__control:checked~label.sk-toggleable__label {background-color: #d4ebff;}#sk-container-id-2 input.sk-hidden--visually {border: 0;clip: rect(1px 1px 1px 1px);clip: rect(1px, 1px, 1px, 1px);height: 1px;margin: -1px;overflow: hidden;padding: 0;position: absolute;width: 1px;}#sk-container-id-2 div.sk-estimator {font-family: monospace;background-color: #f0f8ff;border: 1px dotted black;border-radius: 0.25em;box-sizing: border-box;margin-bottom: 0.5em;}#sk-container-id-2 div.sk-estimator:hover {background-color: #d4ebff;}#sk-container-id-2 div.sk-parallel-item::after {content: \"\";width: 100%;border-bottom: 1px solid gray;flex-grow: 1;}#sk-container-id-2 div.sk-label:hover label.sk-toggleable__label {background-color: #d4ebff;}#sk-container-id-2 div.sk-serial::before {content: \"\";position: absolute;border-left: 1px solid gray;box-sizing: border-box;top: 0;bottom: 0;left: 50%;z-index: 0;}#sk-container-id-2 div.sk-serial {display: flex;flex-direction: column;align-items: center;background-color: white;padding-right: 0.2em;padding-left: 0.2em;position: relative;}#sk-container-id-2 div.sk-item {position: relative;z-index: 1;}#sk-container-id-2 div.sk-parallel {display: flex;align-items: stretch;justify-content: center;background-color: white;position: relative;}#sk-container-id-2 div.sk-item::before, #sk-container-id-2 div.sk-parallel-item::before {content: \"\";position: absolute;border-left: 1px solid gray;box-sizing: border-box;top: 0;bottom: 0;left: 50%;z-index: -1;}#sk-container-id-2 div.sk-parallel-item {display: flex;flex-direction: column;z-index: 1;position: relative;background-color: white;}#sk-container-id-2 div.sk-parallel-item:first-child::after {align-self: flex-end;width: 50%;}#sk-container-id-2 div.sk-parallel-item:last-child::after {align-self: flex-start;width: 50%;}#sk-container-id-2 div.sk-parallel-item:only-child::after {width: 0;}#sk-container-id-2 div.sk-dashed-wrapped {border: 1px dashed gray;margin: 0 0.4em 0.5em 0.4em;box-sizing: border-box;padding-bottom: 0.4em;background-color: white;}#sk-container-id-2 div.sk-label label {font-family: monospace;font-weight: bold;display: inline-block;line-height: 1.2em;}#sk-container-id-2 div.sk-label-container {text-align: center;}#sk-container-id-2 div.sk-container {/* jupyter's `normalize.less` sets `[hidden] { display: none; }` but bootstrap.min.css set `[hidden] { display: none !important; }` so we also need the `!important` here to be able to override the default hidden behavior on the sphinx rendered scikit-learn.org. See: https://github.com/scikit-learn/scikit-learn/issues/21755 */display: inline-block !important;position: relative;}#sk-container-id-2 div.sk-text-repr-fallback {display: none;}</style><div id=\"sk-container-id-2\" class=\"sk-top-container\"><div class=\"sk-text-repr-fallback\"><pre>LinearRegression()</pre><b>In a Jupyter environment, please rerun this cell to show the HTML representation or trust the notebook. <br />On GitHub, the HTML representation is unable to render, please try loading this page with nbviewer.org.</b></div><div class=\"sk-container\" hidden><div class=\"sk-item\"><div class=\"sk-estimator sk-toggleable\"><input class=\"sk-toggleable__control sk-hidden--visually\" id=\"sk-estimator-id-2\" type=\"checkbox\" checked><label for=\"sk-estimator-id-2\" class=\"sk-toggleable__label sk-toggleable__label-arrow\">LinearRegression</label><div class=\"sk-toggleable__content\"><pre>LinearRegression()</pre></div></div></div></div></div>"
      ],
      "text/plain": [
       "LinearRegression()"
      ]
     },
     "execution_count": 61,
     "metadata": {},
     "output_type": "execute_result"
    }
   ],
   "source": [
    "regression.fit(X_train,y_train)   # any algorithm in fit accept 2d array"
   ]
  },
  {
   "cell_type": "code",
   "execution_count": 62,
   "id": "c01da359",
   "metadata": {},
   "outputs": [
    {
     "data": {
      "text/plain": [
       "array([2.32564357])"
      ]
     },
     "execution_count": 62,
     "metadata": {},
     "output_type": "execute_result"
    }
   ],
   "source": [
    "regression.coef_"
   ]
  },
  {
   "cell_type": "code",
   "execution_count": 63,
   "id": "9c758129",
   "metadata": {},
   "outputs": [
    {
     "data": {
      "text/plain": [
       "68.82247512674665"
      ]
     },
     "execution_count": 63,
     "metadata": {},
     "output_type": "execute_result"
    }
   ],
   "source": [
    "regression.intercept_"
   ]
  },
  {
   "cell_type": "markdown",
   "id": "39a5ef98",
   "metadata": {},
   "source": [
    "#### y=2.32x+68.82"
   ]
  },
  {
   "cell_type": "code",
   "execution_count": 64,
   "id": "9c417ab2",
   "metadata": {},
   "outputs": [
    {
     "data": {
      "text/plain": [
       "[<matplotlib.lines.Line2D at 0x1d9ec4b71f0>]"
      ]
     },
     "execution_count": 64,
     "metadata": {},
     "output_type": "execute_result"
    },
    {
     "data": {
      "image/png": "[encoded data removed]",
      "text/plain": [
       "<Figure size 640x480 with 1 Axes>"
      ]
     },
     "metadata": {},
     "output_type": "display_data"
    }
   ],
   "source": [
    "## plot training data and best fit line\n",
    "plt.scatter(X_train,y_train)\n",
    "plt.plot(X_train,regression.predict(X_train),color='red')"
   ]
  },
  {
   "cell_type": "code",
   "execution_count": 65,
   "id": "848c678d",
   "metadata": {},
   "outputs": [],
   "source": [
    "# prediction for test data\n",
    "y_pred=regression.predict(X_test)"
   ]
  },
  {
   "cell_type": "code",
   "execution_count": 66,
   "id": "6d52438b",
   "metadata": {},
   "outputs": [],
   "source": [
    "#performance metrics\n",
    "from sklearn.metrics import mean_absolute_error,mean_squared_error"
   ]
  },
  {
   "cell_type": "code",
   "execution_count": 67,
   "id": "e17b3d90",
   "metadata": {},
   "outputs": [
    {
     "name": "stdout",
     "output_type": "stream",
     "text": [
      "2.356809524456043\n",
      "1.2802099033344954\n",
      "1.5351903870387031\n"
     ]
    }
   ],
   "source": [
    "mse=mean_squared_error(y_test,y_pred)\n",
    "mae=mean_absolute_error(y_test,y_pred)\n",
    "rmse=np.sqrt(mse)\n",
    "print(mse)\n",
    "print(mae)\n",
    "print(rmse)"
   ]
  },
  {
   "cell_type": "markdown",
   "id": "5d236e3c",
   "metadata": {},
   "source": [
    "#### R-square"
   ]
  },
  {
   "cell_type": "code",
   "execution_count": 70,
   "id": "c9ec6c48",
   "metadata": {},
   "outputs": [],
   "source": [
    "from sklearn.metrics import r2_score"
   ]
  },
  {
   "cell_type": "code",
   "execution_count": 71,
   "id": "b19c6150",
   "metadata": {},
   "outputs": [],
   "source": [
    "score=r2_score(y_test,y_pred)"
   ]
  },
  {
   "cell_type": "code",
   "execution_count": 72,
   "id": "8e2539b3",
   "metadata": {},
   "outputs": [
    {
     "name": "stdout",
     "output_type": "stream",
     "text": [
      "0.68601409214348\n"
     ]
    }
   ],
   "source": [
    "print(score)"
   ]
  },
  {
   "cell_type": "code",
   "execution_count": 73,
   "id": "2baf0e6b",
   "metadata": {},
   "outputs": [],
   "source": [
    "import statsmodels.api as sm"
   ]
  },
  {
   "cell_type": "code",
   "execution_count": 74,
   "id": "9daf11df",
   "metadata": {},
   "outputs": [],
   "source": [
    "model=sm.OLS(y_train,X_train).fit()"
   ]
  },
  {
   "cell_type": "code",
   "execution_count": 75,
   "id": "44bfa0fe",
   "metadata": {},
   "outputs": [],
   "source": [
    "prediction=model.predict(X_test)"
   ]
  },
  {
   "cell_type": "code",
   "execution_count": 76,
   "id": "23b6bb9a",
   "metadata": {},
   "outputs": [
    {
     "name": "stdout",
     "output_type": "stream",
     "text": [
      "[-3.24377006  1.48786584  1.13787872 -3.499428    1.07402673 -3.27167963\n",
      " -0.63990274 -1.39238369 -3.99057936 -2.13718864 -1.04243964  0.69075225\n",
      "  3.09533007  0.31512809 -2.42402322 -2.44012198 -2.29044549  0.83404611\n",
      " -3.14865707 -0.95011356  1.19802999 -0.88553393  2.46482672 -1.65175844\n",
      " -0.26937682 -2.06637916  1.34910385  0.99801211 -4.57098185  3.46286796\n",
      " -1.56605538  0.81892897  2.2224067  -2.84178978  5.4422069   4.34718608\n",
      " -2.14222261  1.80451025  0.09676462 -2.71261317 -1.01880777  1.72239654\n",
      " -1.55405587  1.46896033  4.06597732 -2.49735203 -1.12590461  3.74410024\n",
      "  1.78894545  1.79366224 -0.60749392  2.31556827  0.09229216  2.16046299\n",
      "  2.8307027   1.47880129 -0.65114997 -0.4824177   2.07134202  0.71645376\n",
      "  5.82816585  2.73177987 -0.27066329 -1.85574443  1.66571523  0.14910978\n",
      " -4.34697342  0.33995932  0.40754112  1.84291294 -1.67159142 -0.74684173\n",
      " -3.55808849  3.75101177 -1.70566607]\n"
     ]
    }
   ],
   "source": [
    "print(prediction)"
   ]
  },
  {
   "cell_type": "code",
   "execution_count": 78,
   "id": "5d747659",
   "metadata": {},
   "outputs": [
    {
     "name": "stdout",
     "output_type": "stream",
     "text": [
      "                                 OLS Regression Results                                \n",
      "=======================================================================================\n",
      "Dep. Variable:                 Height   R-squared (uncentered):                   0.001\n",
      "Model:                            OLS   Adj. R-squared (uncentered):             -0.003\n",
      "Method:                 Least Squares   F-statistic:                             0.2557\n",
      "Date:                Sun, 23 Feb 2025   Prob (F-statistic):                       0.614\n",
      "Time:                        00:29:04   Log-Likelihood:                         -1271.4\n",
      "No. Observations:                 225   AIC:                                      2545.\n",
      "Df Residuals:                     224   BIC:                                      2548.\n",
      "Df Model:                           1                                                  \n",
      "Covariance Type:            nonrobust                                                  \n",
      "==============================================================================\n",
      "                 coef    std err          t      P>|t|      [0.025      0.975]\n",
      "------------------------------------------------------------------------------\n",
      "x1             2.3256      4.600      0.506      0.614      -6.738      11.390\n",
      "==============================================================================\n",
      "Omnibus:                        1.798   Durbin-Watson:                   0.001\n",
      "Prob(Omnibus):                  0.407   Jarque-Bera (JB):                1.649\n",
      "Skew:                          -0.210   Prob(JB):                        0.438\n",
      "Kurtosis:                       3.019   Cond. No.                         1.00\n",
      "==============================================================================\n",
      "\n",
      "Notes:\n",
      "[1] R² is computed without centering (uncentered) since the model does not contain a constant.\n",
      "[2] Standard Errors assume that the covariance matrix of the errors is correctly specified.\n"
     ]
    }
   ],
   "source": [
    "print(model.summary())"
   ]
  },
  {
   "cell_type": "code",
   "execution_count": 80,
   "id": "8f42bcbc",
   "metadata": {},
   "outputs": [
    {
     "ename": "SyntaxError",
     "evalue": "incomplete input (3736109375.py, line 2)",
     "output_type": "error",
     "traceback": [
      "\u001b[1;36m  Cell \u001b[1;32mIn[80], line 2\u001b[1;36m\u001b[0m\n\u001b[1;33m    regression.predict(scalar.transform([[72]])\u001b[0m\n\u001b[1;37m                                               ^\u001b[0m\n\u001b[1;31mSyntaxError\u001b[0m\u001b[1;31m:\u001b[0m incomplete input\n"
     ]
    }
   ],
   "source": [
    "### Prediction for new data\n",
    "regression.predict(scalar.transform([[72]]))"
   ]
  },
  {
   "cell_type": "code",
   "execution_count": null,
   "id": "ffc0de46",
   "metadata": {},
   "outputs": [],
   "source": []
  }
 ],
 "metadata": {
  "kernelspec": {
   "display_name": "Python 3 (ipykernel)",
   "language": "python",
   "name": "python3"
  },
  "language_info": {
   "codemirror_mode": {
    "name": "ipython",
    "version": 3
   },
   "file_extension": ".py",
   "mimetype": "text/x-python",
   "name": "python",
   "nbconvert_exporter": "python",
   "pygments_lexer": "ipython3",
   "version": "3.10.9"
  }
 },
 "nbformat": 4,
 "nbformat_minor": 5
}
