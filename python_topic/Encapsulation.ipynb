{
 "cells": [
  {
   "cell_type": "markdown",
   "id": "ac9b5838",
   "metadata": {},
   "source": [
    "#### Encapsulation \n",
    "- It refers to the bundling of data (attributes) and methods (functions) that operate on the data into a single unit, typically a class.\n",
    "- It also restricts direct access to some components, which helps protect the integrity of the data and ensures proper usage."
   ]
  },
  {
   "cell_type": "markdown",
   "id": "3db55657",
   "metadata": {},
   "source": [
    "Encapsulation is the process of hiding the internal state of an object and requiring all interactions to be performed through an object’s methods.\n",
    "1. Provides better control over data.\n",
    "2. Prevents accidental modification of data.\n",
    "3. Promotes modular programming."
   ]
  },
  {
   "cell_type": "markdown",
   "id": "aad8a028",
   "metadata": {},
   "source": [
    "Python achieves encapsulation through \n",
    "1. Public - Public members are accessible from anywhere, both inside and outside the class.\n",
    "2. Protected - Protected members are identified with a single underscore (_). They are meant to be accessed only within the class or its subclasses.\n",
    "3. Private  - Private members are identified with a double underscore (_ _)  and cannot be accessed directly from outside the class. Python uses name mangling to make private members inaccessible by renaming them internally.\n",
    "\n",
    "Note: Python’s private and protected members can be accessed outside the class through python name mangling. "
   ]
  },
  {
   "cell_type": "markdown",
   "id": "5d42591a",
   "metadata": {},
   "source": [
    "#### How Encapsulation Works :\n",
    " <b>Data Hiding: </b> The variables (attributes) are kept private or protected, meaning they are not accessible directly from outside the class. Instead, they can only be accessed or modified through the methods.\n",
    "\n",
    "<b>Access through Methods: </b> Methods act as the interface through which external code interacts with the data stored in the variables. For instance, getters and setters are common methods used to retrieve and update the value of a private variable.\n",
    " \n",
    "<b> Control and Security:</b> By encapsulating the variables and only allowing their manipulation via methods, the class can enforce rules on how the variables are accessed or modified, thus maintaining control and security over the data."
   ]
  },
  {
   "cell_type": "markdown",
   "id": "cc886b1d",
   "metadata": {},
   "source": [
    "  <b>Example of Encapsulation </b>\n",
    "  \n",
    "Encapsulation in Python is like having a bank account system where your account balance (data) is kept private. You can’t directly change your balance by accessing the account database. Instead, the bank provides you with methods (functions) like deposit and withdraw to modify your balance safely.\n",
    "\n",
    " <b>Private Data (Balance):</b> Your balance is stored securely. Direct access from outside is not allowed, ensuring the data is protected from unauthorized changes.\n",
    "\n",
    " <b>Public Methods (Deposit and Withdraw):</b> These are the only ways to modify your balance. They check if your requests (like withdrawing money) follow the rules (e.g., you have enough balance) before allowing changes."
   ]
  },
  {
   "cell_type": "markdown",
   "id": "1aeb4c13",
   "metadata": {},
   "source": [
    "#### Protected"
   ]
  },
  {
   "cell_type": "code",
   "execution_count": 1,
   "id": "acc49824",
   "metadata": {},
   "outputs": [
    {
     "name": "stdout",
     "output_type": "stream",
     "text": [
      "30\n"
     ]
    }
   ],
   "source": [
    "class Protected:\n",
    "    def __init__(self):\n",
    "        self._age = 30  # Protected attribute\n",
    "\n",
    "class Subclass(Protected):\n",
    "    def display_age(self):\n",
    "        print(self._age)  # Accessible in subclass\n",
    "\n",
    "obj = Subclass()\n",
    "obj.display_age()\n"
   ]
  },
  {
   "cell_type": "markdown",
   "id": "eea0a3f0",
   "metadata": {},
   "source": [
    "#### Private"
   ]
  },
  {
   "cell_type": "code",
   "execution_count": 4,
   "id": "a16f1d19",
   "metadata": {},
   "outputs": [
    {
     "ename": "AttributeError",
     "evalue": "'Private' object has no attribute '__salary'",
     "output_type": "error",
     "traceback": [
      "\u001b[1;31m---------------------------------------------------------------------------\u001b[0m",
      "\u001b[1;31mAttributeError\u001b[0m                            Traceback (most recent call last)",
      "Cell \u001b[1;32mIn[4], line 9\u001b[0m\n\u001b[0;32m      6\u001b[0m         \u001b[38;5;28;01mreturn\u001b[39;00m \u001b[38;5;28mself\u001b[39m\u001b[38;5;241m.\u001b[39m__salary  \u001b[38;5;66;03m# Access through public method\u001b[39;00m\n\u001b[0;32m      8\u001b[0m obj \u001b[38;5;241m=\u001b[39m Private()\n\u001b[1;32m----> 9\u001b[0m \u001b[38;5;28mprint\u001b[39m(\u001b[43mobj\u001b[49m\u001b[38;5;241;43m.\u001b[39;49m\u001b[43m__salary\u001b[49m())\n",
      "\u001b[1;31mAttributeError\u001b[0m: 'Private' object has no attribute '__salary'"
     ]
    }
   ],
   "source": [
    "class Private:\n",
    "    def __init__(self):\n",
    "        self.__salary = 50000  # Private attribute\n",
    "\n",
    "    def salary(self):\n",
    "        return self.__salary  # Access through public method\n",
    "\n",
    "obj = Private()\n",
    "print(obj.__salary())  # Works\n",
    "#print(obj.__salary)  # Raises AttributeError\n"
   ]
  },
  {
   "cell_type": "markdown",
   "id": "a82843cc",
   "metadata": {},
   "source": [
    "- Private Attribute (__salary): This attribute is prefixed with two underscores, which makes it a private member. Python enforces privacy by name mangling, which means it renames the attribute in a way that makes it hard to access from outside the class.\n",
    "\n",
    "- Method (salary): This public method provides the only way to access the private attribute from outside the class. It safely returns the value of __salary.\n",
    "\n",
    "- Direct Access Attempt: Trying to access the private attribute directly (obj.__salary) will result in an AttributeError, showing that direct access is blocked. This is Python’s way of enforcing encapsulation at a language level."
   ]
  },
  {
   "cell_type": "code",
   "execution_count": 5,
   "id": "c9e3d625",
   "metadata": {},
   "outputs": [
    {
     "data": {
      "text/plain": [
       "['__class__',\n",
       " '__delattr__',\n",
       " '__dict__',\n",
       " '__dir__',\n",
       " '__doc__',\n",
       " '__eq__',\n",
       " '__format__',\n",
       " '__ge__',\n",
       " '__getattribute__',\n",
       " '__gt__',\n",
       " '__hash__',\n",
       " '__init__',\n",
       " '__init_subclass__',\n",
       " '__le__',\n",
       " '__lt__',\n",
       " '__module__',\n",
       " '__ne__',\n",
       " '__new__',\n",
       " '__reduce__',\n",
       " '__reduce_ex__',\n",
       " '__repr__',\n",
       " '__setattr__',\n",
       " '__sizeof__',\n",
       " '__str__',\n",
       " '__subclasshook__',\n",
       " '__weakref__',\n",
       " 'salary']"
      ]
     },
     "execution_count": 5,
     "metadata": {},
     "output_type": "execute_result"
    }
   ],
   "source": [
    "dir(Private)"
   ]
  },
  {
   "cell_type": "markdown",
   "id": "00e8258b",
   "metadata": {},
   "source": [
    "#### Banking Application"
   ]
  },
  {
   "cell_type": "code",
   "execution_count": 9,
   "id": "87d3ef5a",
   "metadata": {},
   "outputs": [
    {
     "name": "stdout",
     "output_type": "stream",
     "text": [
      "Account Holder: John Doe\n",
      "Account Number: ****6789\n",
      "Balance: $5000\n",
      "Deposited $1000. New Balance: $6000\n",
      "Withdrew $300. Remaining Balance: $5700\n",
      "Balance updated successfully. New Balance: $7000\n",
      "Invalid balance amount. Balance cannot be negative.\n",
      "Account Holder: John Doe\n",
      "Account Number: ****6789\n",
      "Balance: $7000\n"
     ]
    }
   ],
   "source": [
    "class BankAccount:\n",
    "    def __init__(self, account_holder, account_number, balance=0):\n",
    "        self.account_holder = account_holder\n",
    "        self.__account_number = account_number  # Private attribute\n",
    "        self.__balance = balance  # Private attribute\n",
    "\n",
    "    # Getter for account number (read-only, no setter)\n",
    "    def get_account_number(self):\n",
    "        return f\"****{str(self.__account_number)[-4:]}\"  # Masked for security\n",
    "\n",
    "    # Getter for balance\n",
    "    def get_balance(self):\n",
    "        return self.__balance\n",
    "\n",
    "    # Setter for balance (ensuring only positive values can be set)\n",
    "    def set_balance(self, new_balance):\n",
    "        if new_balance >= 0:\n",
    "            self.__balance = new_balance\n",
    "            print(f\"Balance updated successfully. New Balance: ${self.__balance}\")\n",
    "        else:\n",
    "            print(\"Invalid balance amount. Balance cannot be negative.\")\n",
    "\n",
    "    # Method to deposit money\n",
    "    def deposit(self, amount):\n",
    "        if amount > 0:\n",
    "            self.__balance += amount\n",
    "            print(f\"Deposited ${amount}. New Balance: ${self.__balance}\")\n",
    "        else:\n",
    "            print(\"Deposit amount must be positive.\")\n",
    "\n",
    "    # Method to withdraw money\n",
    "    def withdraw(self, amount):\n",
    "        if amount > 0 and amount <= self.__balance:\n",
    "            self.__balance -= amount\n",
    "            print(f\"Withdrew ${amount}. Remaining Balance: ${self.__balance}\")\n",
    "        else:\n",
    "            print(\"Insufficient balance or invalid amount.\")\n",
    "\n",
    "    # Display account details safely\n",
    "    def display_account_info(self):\n",
    "        print(f\"Account Holder: {self.account_holder}\")\n",
    "        print(f\"Account Number: {self.get_account_number()}\")  # Masked account number\n",
    "        print(f\"Balance: ${self.__balance}\")\n",
    "\n",
    "# Example Usage:\n",
    "account = BankAccount(\"John Doe\", 123456789, 5000)\n",
    "account.display_account_info()\n",
    "\n",
    "# Trying to access private attributes (will raise AttributeError)\n",
    "# print(account.__balance)\n",
    "\n",
    "# Using public methods instead\n",
    "account.deposit(1000)\n",
    "account.withdraw(300)\n",
    "\n",
    "# Using the setter method\n",
    "account.set_balance(7000)  # Valid update\n",
    "account.set_balance(-500)  # Invalid update\n",
    "\n",
    "# Display updated details\n",
    "account.display_account_info()\n"
   ]
  },
  {
   "cell_type": "code",
   "execution_count": null,
   "id": "081b2dab",
   "metadata": {},
   "outputs": [],
   "source": []
  }
 ],
 "metadata": {
  "kernelspec": {
   "display_name": "Python 3 (ipykernel)",
   "language": "python",
   "name": "python3"
  },
  "language_info": {
   "codemirror_mode": {
    "name": "ipython",
    "version": 3
   },
   "file_extension": ".py",
   "mimetype": "text/x-python",
   "name": "python",
   "nbconvert_exporter": "python",
   "pygments_lexer": "ipython3",
   "version": "3.10.9"
  }
 },
 "nbformat": 4,
 "nbformat_minor": 5
}
