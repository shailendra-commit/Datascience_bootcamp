{
 "cells": [
  {
   "cell_type": "markdown",
   "id": "444dd42f",
   "metadata": {},
   "source": [
    "#### Inhertance"
   ]
  },
  {
   "cell_type": "markdown",
   "id": "e6f0dc24",
   "metadata": {},
   "source": [
    "- Inheritance is a fundamental concept in object-oriented programming (OOP) that allows a class (called a child or derived class) to inherit attributes and methods from another class (called a parent or base class). \n",
    "- This promotes code reuse, modularity, and a hierarchical class structure."
   ]
  },
  {
   "cell_type": "markdown",
   "id": "3091347d",
   "metadata": {},
   "source": [
    "- This is the derived class that inherits from the parent class.\n",
    "- The syntax for inheritance is class ChildClass(ParentClass).\n",
    "The child class automatically gets all attributes and methods of the parent class unless overridden."
   ]
  },
  {
   "cell_type": "markdown",
   "id": "d0e73827",
   "metadata": {},
   "source": [
    "- __init__() function is a constructor method in Python. \n",
    "- It initializes the object’s state when the object is created. \n",
    "- If the child class does not define its own __init__() method, it will automatically inherit the one from the parent class."
   ]
  },
  {
   "cell_type": "markdown",
   "id": "ba5bb63c",
   "metadata": {},
   "source": [
    "<b> super() Function </b>\n",
    "- super() function is used to call the parent class’s methods. In particular, it is commonly used in the child class’s __init__() method to initialize inherited attributes. This way, the child class can leverage the functionality of the parent class.\n",
    "- The super() function is used inside the __init__() method of Employee to call the constructor of Person and initialize the inherited attributes (name and idnumber).\n",
    "- This ensures that the parent class functionality is reused without needing to rewrite the code in the child class.\n",
    "- super().__init__(): This ensures that the parent class’s constructor is called, initializing any attributes defined in the parent class. It’s good practice to call the parent class constructor if it does important initialization."
   ]
  },
  {
   "cell_type": "code",
   "execution_count": 9,
   "id": "88be4a66",
   "metadata": {},
   "outputs": [],
   "source": [
    "class Person:\n",
    "    def __init__(self,name, id_number):\n",
    "        self.name=name\n",
    "        self.id_number=id_number\n",
    "    def display(self):\n",
    "        print(f\"Employee is {self.name} and id is {self.id_number}\")\n",
    "\n",
    "class Employee(Person):\n",
    "    def __init__(self,name,id_number,salary,post):\n",
    "        super().__init__(name,id_number)\n",
    "        self.salary=salary\n",
    "        self.post=post\n",
    "    ## overriding the parent display class \n",
    "    def display(self):\n",
    "        print(f\"Employee is {self.name} and id is {self.id_number}. His salary is {self.salary} and work on {self.post}\")\n",
    "\n",
    "e1=Employee('Nishant', 625, 49000 , 'Analyst')"
   ]
  },
  {
   "cell_type": "code",
   "execution_count": 10,
   "id": "3ee5effb",
   "metadata": {},
   "outputs": [
    {
     "name": "stdout",
     "output_type": "stream",
     "text": [
      "Employee is Nishant and id is 625. His salary is 49000 and work on Analyst\n"
     ]
    }
   ],
   "source": [
    "e1.display()"
   ]
  },
  {
   "cell_type": "markdown",
   "id": "b8dfe2d6",
   "metadata": {},
   "source": [
    "#### Type of Inheritance"
   ]
  },
  {
   "cell_type": "markdown",
   "id": "9b7cbce5",
   "metadata": {},
   "source": [
    "- Single Inheritance: A child class inherits from one parent class.\n",
    "- Multiple Inheritance: A child class inherits from more than one parent class.\n",
    "- Multilevel Inheritance: A class is derived from a class which is also derived from another class.\n",
    "- Hierarchical Inheritance: Multiple classes inherit from a single parent class.\n",
    "- Hybrid Inheritance: A combination of more than one type of inheritance."
   ]
  },
  {
   "cell_type": "markdown",
   "id": "87708ebf",
   "metadata": {},
   "source": [
    "<b> Method overriding </b> is an ability of any object-oriented programming language that allows a subclass or child class to provide a specific implementation of a method that is already provided by one of its super-classes or parent classes. \n",
    "- When a method in a subclass has the same name, the same parameters or signature, and same return type(or sub-type) as a method in its super-class, then the method in the subclass is said to override the method in the super-class.\n",
    "- The version of a method that is executed will be determined by the object that is used to invoke it. \n",
    "- If an object of a parent class is used to invoke the method, then the version in the parent class will be executed, but if an object of the subclass is used to invoke the method, then the version in the child class will be executed. \n",
    "- In other words, it is the type of the object being referred to (not the type of the reference variable) that determines which version of an overridden method will be executed."
   ]
  },
  {
   "cell_type": "markdown",
   "id": "3bbf7057",
   "metadata": {},
   "source": [
    "#### Advantage of Method Overriding"
   ]
  },
  {
   "cell_type": "markdown",
   "id": "2e047ad8",
   "metadata": {},
   "source": [
    "1. Method overriding helps in achieving runtime polymorphism.It allows a subclass to modify the behavior of a method inherited from a parent class.\n",
    "2. Instead of writing a new method from scratch, we reuse and modify the existing functionality.\n",
    "3. Can be used with super() to include parent method behavior."
   ]
  },
  {
   "cell_type": "markdown",
   "id": "aa7fa9de",
   "metadata": {},
   "source": [
    "#### Multiple Inheritance: \n",
    "When a class is derived from more than one base class it is called multiple Inheritance."
   ]
  },
  {
   "cell_type": "code",
   "execution_count": 11,
   "id": "b02828b4",
   "metadata": {},
   "outputs": [
    {
     "name": "stdout",
     "output_type": "stream",
     "text": [
      "Inside Child\n",
      "Inside Parent2\n"
     ]
    }
   ],
   "source": [
    "class Parent1(): \n",
    "    def show(self): \n",
    "        print(\"Inside Parent1\") \n",
    "\n",
    "class Parent2(): \n",
    "    def display(self): \n",
    "        print(\"Inside Parent2\")         \n",
    "        \n",
    "# Defining child class \n",
    "class Child(Parent1, Parent2):    # multiple inheritence\n",
    "    def show(self): \n",
    "        print(\"Inside Child\") \n",
    "\n",
    "obj = Child() \n",
    "obj.show() \n",
    "obj.display()"
   ]
  },
  {
   "cell_type": "markdown",
   "id": "f1a3e6c2",
   "metadata": {},
   "source": [
    "#### Multilevel Inheritance:\n",
    "When we have a child and grandchild relationship."
   ]
  },
  {
   "cell_type": "code",
   "execution_count": 17,
   "id": "485d3dea",
   "metadata": {},
   "outputs": [
    {
     "name": "stdout",
     "output_type": "stream",
     "text": [
      "Inside grandchild\n",
      "Inside child\n",
      "Inside parent\n"
     ]
    }
   ],
   "source": [
    "class Parent():\n",
    "    def show(self):\n",
    "        print(\"Inside parent\")\n",
    "        \n",
    "class child(Parent):\n",
    "    def display(self):\n",
    "        print(\"Inside child\")\n",
    "        \n",
    "class grandchild(child):\n",
    "    def show(self):\n",
    "        print(\"Inside grandchild\")\n",
    "        \n",
    "g=grandchild()\n",
    "g1=Parent()\n",
    "g.show()\n",
    "g.display()\n",
    "g1.show()"
   ]
  },
  {
   "cell_type": "code",
   "execution_count": null,
   "id": "03492ab2",
   "metadata": {},
   "outputs": [],
   "source": []
  }
 ],
 "metadata": {
  "kernelspec": {
   "display_name": "Python 3 (ipykernel)",
   "language": "python",
   "name": "python3"
  },
  "language_info": {
   "codemirror_mode": {
    "name": "ipython",
    "version": 3
   },
   "file_extension": ".py",
   "mimetype": "text/x-python",
   "name": "python",
   "nbconvert_exporter": "python",
   "pygments_lexer": "ipython3",
   "version": "3.10.9"
  }
 },
 "nbformat": 4,
 "nbformat_minor": 5
}
