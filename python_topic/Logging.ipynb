{
 "cells": [
  {
   "cell_type": "markdown",
   "id": "a80b38e1",
   "metadata": {},
   "source": [
    "#### Logging\n",
    "Logging is a means of tracking events that happen when some software runs. Logging is important for software developing, debugging, and running. If you don’t have any logging record and your program crashes, there are very few chances that you detect the cause of the problem. And if you detect the cause, it will consume a lot of time."
   ]
  },
  {
   "cell_type": "markdown",
   "id": "8b2c68ac",
   "metadata": {},
   "source": [
    "#### Python Logging Levels\n",
    "There are five built-in levels of the log message.  \n",
    "\n",
    "__Debug:__ These are used to give Detailed information, typically of interest only when diagnosing problems.\n",
    "\n",
    "__Info:__ These are used to confirm that things are working as expected\n",
    "\n",
    "__Warning:__ These are used as an indication that something unexpected happened, or is indicative of some problem in the near future\n",
    "\n",
    "__Error:__ This tells that due to a more serious problem, the software has not been able to perform some function\n",
    "\n",
    "__Critical:__ This tells serious error, indicating that the program itself may be unable to continue running"
   ]
  },
  {
   "cell_type": "code",
   "execution_count": 1,
   "id": "eeae6c91",
   "metadata": {},
   "outputs": [
    {
     "name": "stderr",
     "output_type": "stream",
     "text": [
      "DEBUG:root:This is debug message\n",
      "INFO:root:This is info message\n",
      "WARNING:root:This is warning message\n",
      "ERROR:root:This is error message\n"
     ]
    }
   ],
   "source": [
    "import logging\n",
    "\n",
    "### configure basis loging setting\n",
    "logging.basicConfig(level=logging.DEBUG)\n",
    "logging.debug(\"This is debug message\")\n",
    "logging.info(\"This is info message\")\n",
    "logging.warning(\"This is warning message\")\n",
    "logging.error(\"This is error message\")"
   ]
  },
  {
   "cell_type": "code",
   "execution_count": 1,
   "id": "c071b4fb",
   "metadata": {},
   "outputs": [],
   "source": [
    "import logging\n",
    "\n",
    "logging.basicConfig(level=logging.DEBUG,\n",
    "                    format='%(asctime)s-%(name)s-%(message)s-',\n",
    "                    datefmt='%Y-%m-%d %H-%M-%S',\n",
    "                    filename='app.log',\n",
    "                    filemode='w')\n",
    "\n",
    "logging.basicConfig(level=logging.DEBUG)\n",
    "logging.debug(\"This is debug message\")\n",
    "logging.info(\"This is info message\")\n",
    "logging.warning(\"This is warning message\")\n",
    "logging.error(\"This is error message\")\n"
   ]
  },
  {
   "cell_type": "code",
   "execution_count": 2,
   "id": "3224bda0",
   "metadata": {},
   "outputs": [],
   "source": [
    "\n",
    "logging.basicConfig(level=logging.DEBUG)\n",
    "logging.debug(\"This is debug message\")\n",
    "logging.info(\"This is info message\")\n",
    "logging.warning(\"This is warning message\")\n",
    "logging.error(\"This is error message\")"
   ]
  },
  {
   "cell_type": "code",
   "execution_count": null,
   "id": "2aa25143",
   "metadata": {},
   "outputs": [],
   "source": []
  }
 ],
 "metadata": {
  "kernelspec": {
   "display_name": "Python 3 (ipykernel)",
   "language": "python",
   "name": "python3"
  },
  "language_info": {
   "codemirror_mode": {
    "name": "ipython",
    "version": 3
   },
   "file_extension": ".py",
   "mimetype": "text/x-python",
   "name": "python",
   "nbconvert_exporter": "python",
   "pygments_lexer": "ipython3",
   "version": "3.10.9"
  }
 },
 "nbformat": 4,
 "nbformat_minor": 5
}
