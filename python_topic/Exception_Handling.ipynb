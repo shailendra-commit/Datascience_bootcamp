{
 "cells": [
  {
   "cell_type": "markdown",
   "id": "94943f35",
   "metadata": {},
   "source": [
    "#### Exception handling\n",
    "Exception handling in Python is a mechanism to manage errors and unexpected events during program execution, preventing crashes and allowing graceful recovery. Here's a structured overview:\n",
    "1. Else is use to add code which we need to run when exception doesnot occur.\n",
    "2. Finally will always run. It is used when we try to add some important code like closeing the database etc."
   ]
  },
  {
   "cell_type": "markdown",
   "id": "89d15045",
   "metadata": {},
   "source": [
    "#### Syntax"
   ]
  },
  {
   "cell_type": "raw",
   "id": "f9329a12",
   "metadata": {},
   "source": [
    "try:\n",
    "    # Code that might raise an exception\n",
    "except Exception:\n",
    "    # Code to handle the exception"
   ]
  },
  {
   "cell_type": "raw",
   "id": "e68e56b7",
   "metadata": {},
   "source": [
    "try:\n",
    "    result = 10 / int(input(\"Enter a divisor: \"))\n",
    "except (ValueError, ZeroDivisionError) as e:\n",
    "    print(f\"Error: {e}\")"
   ]
  },
  {
   "cell_type": "raw",
   "id": "c9f76b8d",
   "metadata": {},
   "source": [
    "try:\n",
    "    file = open(\"data.txt\", \"r\")\n",
    "except FileNotFoundError:\n",
    "    print(\"File not found!\")\n",
    "else:\n",
    "    print(file.read())\n",
    "finally:\n",
    "    file.close()"
   ]
  },
  {
   "cell_type": "code",
   "execution_count": 1,
   "id": "b1ccfe64",
   "metadata": {},
   "outputs": [
    {
     "name": "stdout",
     "output_type": "stream",
     "text": [
      "there is some error\n"
     ]
    }
   ],
   "source": [
    "try:\n",
    "    # code which can give exception\n",
    "    a=b\n",
    "except:\n",
    "    print('there is some error')"
   ]
  },
  {
   "cell_type": "code",
   "execution_count": 2,
   "id": "66176c35",
   "metadata": {},
   "outputs": [
    {
     "ename": "NameError",
     "evalue": "name 'b' is not defined",
     "output_type": "error",
     "traceback": [
      "\u001b[1;31m---------------------------------------------------------------------------\u001b[0m",
      "\u001b[1;31mNameError\u001b[0m                                 Traceback (most recent call last)",
      "Cell \u001b[1;32mIn[2], line 1\u001b[0m\n\u001b[1;32m----> 1\u001b[0m a\u001b[38;5;241m=\u001b[39m\u001b[43mb\u001b[49m\n",
      "\u001b[1;31mNameError\u001b[0m: name 'b' is not defined"
     ]
    }
   ],
   "source": [
    "a=b\n",
    "# name error occur"
   ]
  },
  {
   "cell_type": "code",
   "execution_count": 5,
   "id": "2363f7ed",
   "metadata": {},
   "outputs": [
    {
     "name": "stdout",
     "output_type": "stream",
     "text": [
      "Name Error\n"
     ]
    }
   ],
   "source": [
    "try:\n",
    "    a=b\n",
    "except NameError as ex1:\n",
    "    print('Name Error')\n",
    "except Exception as ex:\n",
    "    print(ex)"
   ]
  },
  {
   "cell_type": "code",
   "execution_count": 9,
   "id": "020549dc",
   "metadata": {},
   "outputs": [
    {
     "name": "stdout",
     "output_type": "stream",
     "text": [
      "Enter number 1: 1\n",
      "Enter number 2: 0\n",
      "division by zero\n",
      "code running is complete\n"
     ]
    }
   ],
   "source": [
    "try:\n",
    "    a=int(input('Enter number 1: '))\n",
    "    b=int(input('Enter number 2: '))\n",
    "    s=a+b\n",
    "    m=a-b\n",
    "    mu=a*b\n",
    "    div=a/b\n",
    "except NameError as ex1:\n",
    "    print('Name Error')\n",
    "except Exception as ex:\n",
    "    print(ex)\n",
    "else:                        ## only run when exceptinon doesnot occur\n",
    "    print(s)\n",
    "    print(m)\n",
    "    print(mu)\n",
    "    print(div)\n",
    "finally:\n",
    "    print('code running is complete')"
   ]
  },
  {
   "cell_type": "markdown",
   "id": "fb10ad94",
   "metadata": {},
   "source": [
    "#### Custom Exception\n"
   ]
  },
  {
   "cell_type": "code",
   "execution_count": 14,
   "id": "eefb1125",
   "metadata": {},
   "outputs": [
    {
     "name": "stdout",
     "output_type": "stream",
     "text": [
      "Enter a positive number: $\n",
      "Input error: invalid literal for int() with base 10: '$'\n",
      "Execution complete.\n"
     ]
    }
   ],
   "source": [
    "try:\n",
    "    num = int(input(\"Enter a positive number: \"))\n",
    "    if num < 0:\n",
    "        raise ValueError  (\"Negative numbers are not allowed!\")\n",
    "    result = 100 / num\n",
    "except ValueError as ve:\n",
    "    print(f\"Input error: {ve}\")\n",
    "except ZeroDivisionError:\n",
    "    print(\"Cannot divide by zero!\")\n",
    "else:\n",
    "    print(f\"Result: {result}\")\n",
    "finally:\n",
    "    print(\"Execution complete.\")"
   ]
  },
  {
   "cell_type": "code",
   "execution_count": 15,
   "id": "7cfb29e2",
   "metadata": {},
   "outputs": [],
   "source": [
    "class Error(Exception):\n",
    "    pass\n",
    "class dobException(Error):\n",
    "    pass"
   ]
  },
  {
   "cell_type": "code",
   "execution_count": 22,
   "id": "757a9072",
   "metadata": {},
   "outputs": [
    {
     "name": "stdout",
     "output_type": "stream",
     "text": [
      "Enter a positive number: )\n",
      "Execution complete.\n"
     ]
    },
    {
     "ename": "ValueError",
     "evalue": "invalid literal for int() with base 10: ')'",
     "output_type": "error",
     "traceback": [
      "\u001b[1;31m---------------------------------------------------------------------------\u001b[0m",
      "\u001b[1;31mValueError\u001b[0m                                Traceback (most recent call last)",
      "Cell \u001b[1;32mIn[22], line 2\u001b[0m\n\u001b[0;32m      1\u001b[0m \u001b[38;5;28;01mtry\u001b[39;00m:\n\u001b[1;32m----> 2\u001b[0m     num \u001b[38;5;241m=\u001b[39m \u001b[38;5;28;43mint\u001b[39;49m\u001b[43m(\u001b[49m\u001b[38;5;28;43minput\u001b[39;49m\u001b[43m(\u001b[49m\u001b[38;5;124;43m\"\u001b[39;49m\u001b[38;5;124;43mEnter a positive number: \u001b[39;49m\u001b[38;5;124;43m\"\u001b[39;49m\u001b[43m)\u001b[49m\u001b[43m)\u001b[49m\n\u001b[0;32m      3\u001b[0m     \u001b[38;5;28;01mif\u001b[39;00m num \u001b[38;5;241m<\u001b[39m \u001b[38;5;241m0\u001b[39m:\n\u001b[0;32m      4\u001b[0m         \u001b[38;5;28;01mraise\u001b[39;00m dobException(\u001b[38;5;124m\"\u001b[39m\u001b[38;5;124mNegative numbers are not allowed!\u001b[39m\u001b[38;5;124m\"\u001b[39m)\n",
      "\u001b[1;31mValueError\u001b[0m: invalid literal for int() with base 10: ')'"
     ]
    }
   ],
   "source": [
    "try:\n",
    "    num = int(input(\"Enter a positive number: \"))\n",
    "    if num < 0:\n",
    "        raise dobException(\"Negative numbers are not allowed!\")\n",
    "    result = 100 / num\n",
    "except dobException as ve:\n",
    "    print(f\"Input error: {ve}\")\n",
    "except ZeroDivisionError:\n",
    "    print(\"Cannot divide by zero!\")\n",
    "else:\n",
    "    print(f\"Result: {result}\")\n",
    "finally:\n",
    "    print(\"Execution complete.\")"
   ]
  },
  {
   "cell_type": "code",
   "execution_count": null,
   "id": "a8c1cd63",
   "metadata": {},
   "outputs": [],
   "source": []
  }
 ],
 "metadata": {
  "kernelspec": {
   "display_name": "Python 3 (ipykernel)",
   "language": "python",
   "name": "python3"
  },
  "language_info": {
   "codemirror_mode": {
    "name": "ipython",
    "version": 3
   },
   "file_extension": ".py",
   "mimetype": "text/x-python",
   "name": "python",
   "nbconvert_exporter": "python",
   "pygments_lexer": "ipython3",
   "version": "3.10.9"
  }
 },
 "nbformat": 4,
 "nbformat_minor": 5
}
