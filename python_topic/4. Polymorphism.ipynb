{
 "cells": [
  {
   "cell_type": "markdown",
   "id": "0b9931a5",
   "metadata": {},
   "source": [
    "#### Polymorphism"
   ]
  },
  {
   "cell_type": "markdown",
   "id": "ad7bcc58",
   "metadata": {},
   "source": [
    "In OOP, polymorphism allows methods in different classes to share the same name but perform distinct tasks. \n",
    "- This is achieved through inheritance and interface design. \n",
    "- Polymorphism complements other OOP principles like inheritance (sharing behavior) and encapsulation (hiding complexity) to create robust and modular applications"
   ]
  },
  {
   "cell_type": "code",
   "execution_count": 2,
   "id": "d021d9d0",
   "metadata": {},
   "outputs": [
    {
     "name": "stdout",
     "output_type": "stream",
     "text": [
      "Area of rectangle is:20\n",
      "Area of circle is:50.24\n"
     ]
    }
   ],
   "source": [
    "class shape:\n",
    "    def area(self):\n",
    "        return 'undefined'\n",
    "    \n",
    "class Rectangle(shape):\n",
    "    def __init__(self,length,width):\n",
    "        self.length=length\n",
    "        self.width=width\n",
    "    \n",
    "    def area(self):\n",
    "        return self.length*self.width\n",
    "\n",
    "class Circle(shape):\n",
    "    def __init__(self,radius):\n",
    "        self.radius=radius\n",
    "    \n",
    "    def area(self):\n",
    "        return 3.14*self.radius*self.radius\n",
    "\n",
    "R=Rectangle(5,4)\n",
    "C=Circle(4)\n",
    "print(f\"Area of rectangle is:{R.area()}\")\n",
    "print(f\"Area of circle is:{C.area()}\")\n",
    "    \n"
   ]
  },
  {
   "cell_type": "markdown",
   "id": "ec846bed",
   "metadata": {},
   "source": [
    "### Types of Polymorphism"
   ]
  },
  {
   "cell_type": "markdown",
   "id": "6eb4929b",
   "metadata": {},
   "source": [
    "#### Compile-time Polymorphism\n",
    "Found in statically typed languages like Java or C++, where the behavior of a function or operator is resolved during the program’s compilation phase.\n",
    "Examples include method overloading and operator overloading, where multiple functions or operators can share the same name but perform different tasks based on the context.\n",
    "- In Python, which is dynamically typed, compile-time polymorphism is not natively supported. Instead, Python uses techniques like dynamic typing and duck typing to achieve similar flexibility."
   ]
  },
  {
   "cell_type": "markdown",
   "id": "af01b2b4",
   "metadata": {},
   "source": [
    "#### Runtime Polymorphism\n",
    "Occurs when the behavior of a method is determined at runtime based on the type of the object.\n",
    "- In Python, this is achieved through method overriding: a child class can redefine a method from its parent class to provide its own specific implementation.\n",
    "- Python’s dynamic nature allows it to excel at runtime polymorphism, enabling flexible and adaptable code."
   ]
  },
  {
   "cell_type": "markdown",
   "id": "80d02f7c",
   "metadata": {},
   "source": [
    "#### Polymorphism be achieved with functions in Python"
   ]
  },
  {
   "cell_type": "markdown",
   "id": "f6564d44",
   "metadata": {},
   "source": [
    "Polymorphism can be achieved with functions in Python through duck typing, where the method or function operates on any object that supports the required method or attribute, regardless of the object’s class."
   ]
  },
  {
   "cell_type": "code",
   "execution_count": 5,
   "id": "6765c256",
   "metadata": {},
   "outputs": [
    {
     "name": "stdout",
     "output_type": "stream",
     "text": [
      "Bark\n",
      "Meow\n"
     ]
    }
   ],
   "source": [
    "def make_sound(animal):\n",
    "    return animal.sound()\n",
    "\n",
    "class Dog:\n",
    "    def sound(self):\n",
    "        return \"Bark\"\n",
    "\n",
    "class Cat:\n",
    "    def sound(self):\n",
    "        return \"Meow\"\n",
    "\n",
    "animals=[Dog(),Cat()]\n",
    "\n",
    "for animal in  animals:\n",
    "    print(make_sound(animal))\n",
    "\n",
    "    "
   ]
  },
  {
   "cell_type": "markdown",
   "id": "e6de90f2",
   "metadata": {},
   "source": [
    "### How does polymorphism help in writing flexible and maintainable code?\n",
    "- Polymorphism allows you to write more flexible and maintainable code by enabling you to use a single interface to represent different underlying forms (data types). \n",
    "- This means you can add new classes with their own implementations without altering the existing code, making it easier to extend and maintain."
   ]
  },
  {
   "cell_type": "markdown",
   "id": "347c0358",
   "metadata": {},
   "source": [
    "### What is the role of abstract base classes in polymorphism?\n",
    "- Abstract class can also be used to demostrate polymorphism.\n",
    "- Abstract base classes (ABCs) define a common interface for a group of subclasses. \n",
    "- They cannot be instantiated themselves and require subclasses to provide implementations for their abstract methods.\n",
    "- ABCs ensure that derived classes adhere to a specific protocol, thus supporting polymorphism."
   ]
  },
  {
   "cell_type": "code",
   "execution_count": 9,
   "id": "e1748a40",
   "metadata": {},
   "outputs": [
    {
     "name": "stdout",
     "output_type": "stream",
     "text": [
      "Motorcycle start\n",
      "Car start\n"
     ]
    }
   ],
   "source": [
    "from abc import ABC, abstractmethod\n",
    "class Vehicle(ABC):\n",
    "    def start_engine(self):\n",
    "        pass\n",
    "\n",
    "class motercycle(Vehicle):\n",
    "    def start_engine(self):\n",
    "        return \"Motorcycle start\"\n",
    "        \n",
    "class car(Vehicle):\n",
    "    def start_engine(self):\n",
    "        return \"Car start\"\n",
    "        \n",
    "def engine_start(vehicle):\n",
    "    print(vehicle.start_engine())\n",
    "    \n",
    "vehicles=[motercycle(),car()]\n",
    "for vehicle in vehicles:\n",
    "    engine_start(vehicle)"
   ]
  },
  {
   "cell_type": "markdown",
   "id": "9e72ce7a",
   "metadata": {},
   "source": [
    "#### Polymorphism in built-in function"
   ]
  },
  {
   "cell_type": "code",
   "execution_count": 10,
   "id": "e030e19a",
   "metadata": {},
   "outputs": [
    {
     "name": "stdout",
     "output_type": "stream",
     "text": [
      "5\n",
      "3\n",
      "3\n",
      "z\n"
     ]
    }
   ],
   "source": [
    "print(len(\"Hello\"))  # String length\n",
    "print(len([1, 2, 3]))  # List length\n",
    "\n",
    "print(max(1, 3, 2))  # Maximum of integers\n",
    "print(max(\"a\", \"z\", \"m\"))  # Maximum in strings"
   ]
  },
  {
   "cell_type": "markdown",
   "id": "0e82791e",
   "metadata": {},
   "source": [
    "#### Polymorphism in  function"
   ]
  },
  {
   "cell_type": "code",
   "execution_count": 11,
   "id": "19539f9c",
   "metadata": {},
   "outputs": [
    {
     "name": "stdout",
     "output_type": "stream",
     "text": [
      "7\n",
      "Hello, World!\n",
      "[1, 2, 3, 4]\n"
     ]
    }
   ],
   "source": [
    "def add(a, b):\n",
    "    return a + b\n",
    "\n",
    "print(add(3, 4))           # Integer addition\n",
    "print(add(\"Hello, \", \"World!\"))  # String concatenation\n",
    "print(add([1, 2], [3, 4])) # List concatenation"
   ]
  },
  {
   "cell_type": "markdown",
   "id": "c1db981c",
   "metadata": {},
   "source": [
    "#### Polymorphism in operator"
   ]
  },
  {
   "cell_type": "code",
   "execution_count": null,
   "id": "07dad33c",
   "metadata": {},
   "outputs": [],
   "source": [
    "print(5 + 10)  # Integer addition\n",
    "print(\"Hello \" + \"World!\")  # String concatenation\n",
    "print([1, 2] + [3, 4])  # List concatenation"
   ]
  }
 ],
 "metadata": {
  "kernelspec": {
   "display_name": "Python 3 (ipykernel)",
   "language": "python",
   "name": "python3"
  },
  "language_info": {
   "codemirror_mode": {
    "name": "ipython",
    "version": 3
   },
   "file_extension": ".py",
   "mimetype": "text/x-python",
   "name": "python",
   "nbconvert_exporter": "python",
   "pygments_lexer": "ipython3",
   "version": "3.10.9"
  }
 },
 "nbformat": 4,
 "nbformat_minor": 5
}
