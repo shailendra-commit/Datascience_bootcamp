{
 "cells": [
  {
   "cell_type": "markdown",
   "id": "ebca1287",
   "metadata": {},
   "source": [
    "#### Lists\n",
    "In Python List are the most flexible and commonly used data structure for sequential storage. They are similar to arrays in other languages but with several key differences:\n",
    "\n",
    "<b> Dynamic Typing:</b> Python lists can hold elements of different types in the same list. We can have an integer, a string and even other lists all stored within a single list.\n",
    "\n",
    "<b> Dynamic Resizing:</b> Lists are dynamically resized, meaning you can add or remove elements without declaring the size of the list upfront.\n",
    "\n",
    "<b> Built-in Methods: </b> Python lists come with numerous built-in methods that allow for easy manipulation of the elements within them, including methods for appending, removing, sorting and reversing elements."
   ]
  },
  {
   "cell_type": "code",
   "execution_count": null,
   "id": "b1da8cbb",
   "metadata": {},
   "outputs": [],
   "source": [
    "arr1=[1,'Hello',[a,1],]"
   ]
  }
 ],
 "metadata": {
  "kernelspec": {
   "display_name": "Python 3 (ipykernel)",
   "language": "python",
   "name": "python3"
  },
  "language_info": {
   "codemirror_mode": {
    "name": "ipython",
    "version": 3
   },
   "file_extension": ".py",
   "mimetype": "text/x-python",
   "name": "python",
   "nbconvert_exporter": "python",
   "pygments_lexer": "ipython3",
   "version": "3.10.9"
  }
 },
 "nbformat": 4,
 "nbformat_minor": 5
}
