{
 "cells": [
  {
   "cell_type": "markdown",
   "id": "a5afe0e2",
   "metadata": {},
   "source": [
    "1. <b>Object Oriented Programming </b> is a fundamental concept in Python, empowering developers to build modular, maintainable, and scalable applications.\n",
    "2. <b>OOPs</b> is a way of organizing code that uses objects and classes to represent real-world entities and their behavior. In OOPs, object has attributes thing that has specific data and can perform certain actions using methods."
   ]
  },
  {
   "cell_type": "markdown",
   "id": "0213cb41",
   "metadata": {},
   "source": [
    "1. A class is a collection of objects. \n",
    "2. Classes are blueprints for creating objects. \n",
    "3. A class defines a set of attributes and methods that the created objects (instances) can have.\n",
    "4. Classes are created by keyword class.\n",
    "5. Attributes are the variables that belong to a class.\n",
    "6. Attributes are always public and can be accessed using the dot (.) operator."
   ]
  },
  {
   "cell_type": "markdown",
   "id": "88a43b80",
   "metadata": {},
   "source": [
    "<h4> Object </h4>\n",
    "\n",
    "An <b> Object </b> is an instance of a Class. It represents a specific implementation of the class and holds its own data.\n",
    "\n",
    "An object consists of:\n",
    "1. State: It is represented by the attributes and reflects the properties of an object.\n",
    "2. Behavior: It is represented by the methods of an object and reflects the response of an object to other objects.\n",
    "3. Identity: It gives a unique name to an object and enables one object to interact with other objects."
   ]
  },
  {
   "cell_type": "markdown",
   "id": "b7c969ed",
   "metadata": {},
   "source": [
    "<b> self </b> parameter is a reference to the current instance of the class. \n",
    "- It allows us to access the attributes and methods of the object.\n",
    "- It is customary to use “self” as the first parameter in instance methods of a class.\n",
    "- <span style=\"color: green;\">Whenever you call a method of an object created from a class, the object is automatically passed as the first argument using the “self” parameter.</span>\n",
    "- This enables you to modify the object’s properties and execute tasks unique to that particular instance."
   ]
  },
  {
   "cell_type": "markdown",
   "id": "ca8d044b",
   "metadata": {},
   "source": [
    "<span style=\"color: red;\"> Self Constructor </span>\n",
    "- A class constructor is a special method named __init__ that gets called when you create an instance (object) of a class. \n",
    "- This method is used to initialize the attributes of the object.\n",
    "- Keep in mind that the self parameter in the constructor refers to the instance being created and allows you to access and set its attributes.\n",
    "- <span style=\"color: green;\"> ‘ self ‘ is not a keyword in Python. Self is just a parameter name used in instance methods to refer to the instance itself.</span>\n",
    "- Self is pointer to current object.\n",
    "- When you create an instance of a class, you’re essentially creating an object with its own set of attributes and methods.\n",
    "- Self is the first argument to be passed in Constructor and Instance Method.Self must be provided as a First parameter to the Instance method and constructor. If you don’t provide it, it will cause an error.\n",
    "- Self is a convention and not a Python keyword. Self is a parameter in Instance Method and the user can use another parameter name in place of it"
   ]
  },
  {
   "cell_type": "code",
   "execution_count": 2,
   "id": "1c3d5b36",
   "metadata": {},
   "outputs": [],
   "source": [
    "class Dog:\n",
    "    species='canine'# class attribute\n",
    "    def __init__(self,name,age):     #here name and age is parameter  and __init__ is constructor\n",
    "        self.name=name               # here self.name and self.age is instance attribute\n",
    "        self.age=age"
   ]
  },
  {
   "cell_type": "code",
   "execution_count": 11,
   "id": "9dd535df",
   "metadata": {},
   "outputs": [
    {
     "name": "stdout",
     "output_type": "stream",
     "text": [
      "<__main__.Dog object at 0x00000155E40F51B0>\n",
      "canine\n"
     ]
    }
   ],
   "source": [
    "d1=Dog('lucy',3)\n",
    "print(d1) # it shows d1 as object of class with it location\n",
    "print(d1.species)\n"
   ]
  },
  {
   "cell_type": "markdown",
   "id": "2a632aa3",
   "metadata": {},
   "source": [
    "<b> Class Variables </b> :\n",
    "These are the variables that are shared across all instances of a class. It is defined at the class level, outside any methods. All objects of the class share the same value for a class variable unless explicitly overridden in an object.\n",
    "\n",
    "<b> Instance Variables </b> :\n",
    "Variables that are unique to each instance (object) of a class. These are defined within __init__ method or other instance methods. Each object maintains its own copy of instance variables, independent of other objects."
   ]
  },
  {
   "cell_type": "code",
   "execution_count": 13,
   "id": "9faa3534",
   "metadata": {},
   "outputs": [
    {
     "name": "stdout",
     "output_type": "stream",
     "text": [
      "Address of self =  1468385728336\n",
      "Address of class object =  1468385728336\n"
     ]
    }
   ],
   "source": [
    "## Self is pointer to current object\n",
    "class Check:\n",
    "    def __init__(self):\n",
    "        print(\"Address of self = \",id(self))\n",
    "\n",
    "obj = Check()\n",
    "print(\"Address of class object = \",id(obj))"
   ]
  },
  {
   "cell_type": "markdown",
   "id": "dfba458f",
   "metadata": {},
   "source": [
    "#### Creating class with attribute"
   ]
  },
  {
   "cell_type": "code",
   "execution_count": 24,
   "id": "3b4f25b7",
   "metadata": {},
   "outputs": [
    {
     "name": "stdout",
     "output_type": "stream",
     "text": [
      "Model is audi a4\n",
      "Color is blue\n",
      "Model is ferrari 488\n",
      "Color is green\n",
      "audi a4\n",
      "ferrari 488\n"
     ]
    }
   ],
   "source": [
    "class Car:\n",
    "    def __init__(self,model,color):\n",
    "        self.model=model\n",
    "        self.color=color\n",
    "    def Show(self):\n",
    "        print(f\"Model is {self.model}\")\n",
    "        print(f\"Color is {self.color}\")\n",
    "\n",
    "audi = Car(\"audi a4\", \"blue\")\n",
    "ferrari = Car(\"ferrari 488\", \"green\")\n",
    "\n",
    "audi.Show()  \n",
    "ferrari.Show()\n",
    "\n",
    "'''The closing bracket () in audi.Show() is necessary because Show is a method call, not a variable reference. \n",
    "  In Python, parentheses () are used to invoke a function or method.\n",
    "'''\n",
    "print(audi.model)\n",
    "print(ferrari.model)"
   ]
  },
  {
   "cell_type": "markdown",
   "id": "7b0de497",
   "metadata": {},
   "source": [
    "#### Banking app"
   ]
  },
  {
   "cell_type": "code",
   "execution_count": 46,
   "id": "183ee45d",
   "metadata": {},
   "outputs": [],
   "source": [
    "class BankAccount:\n",
    "    def __init__(self,owner,balance=0):\n",
    "        self.owner=owner\n",
    "        self.balance=balance\n",
    "    \n",
    "    def get_balance(self):\n",
    "        print(f'current balance is {self.balance}')\n",
    "#         return self.balance\n",
    "        \n",
    "    def deposit(self,amount):\n",
    "        self.balance+=amount\n",
    "        print(f\"Deposited amount is {amount} and balanced is {self.balance}\")\n",
    "    \n",
    "    def withdraw(self,amount):\n",
    "        if amount>self.balance:\n",
    "              print(f\"Insuffient Balance\")\n",
    "        else:\n",
    "            self.balance-=amount\n",
    "            print(f\"Withdraw amount is {amount} and balanced is {self.balance}\")\n",
    "\n",
    "account=BankAccount('Shailendra',101000)"
   ]
  },
  {
   "cell_type": "code",
   "execution_count": 47,
   "id": "104f3b11",
   "metadata": {},
   "outputs": [
    {
     "name": "stdout",
     "output_type": "stream",
     "text": [
      "current balance is 101000\n"
     ]
    }
   ],
   "source": [
    "account.get_balance()"
   ]
  },
  {
   "cell_type": "code",
   "execution_count": 48,
   "id": "76641650",
   "metadata": {},
   "outputs": [
    {
     "name": "stdout",
     "output_type": "stream",
     "text": [
      "Deposited amount is 10000 and balanced is 111000\n"
     ]
    }
   ],
   "source": [
    "account.deposit(10000)"
   ]
  },
  {
   "cell_type": "code",
   "execution_count": 49,
   "id": "f424b020",
   "metadata": {},
   "outputs": [
    {
     "name": "stdout",
     "output_type": "stream",
     "text": [
      "Withdraw amount is 6500 and balanced is 104500\n"
     ]
    }
   ],
   "source": [
    "account.withdraw(6500)"
   ]
  },
  {
   "cell_type": "code",
   "execution_count": null,
   "id": "11aa355a",
   "metadata": {},
   "outputs": [],
   "source": []
  }
 ],
 "metadata": {
  "kernelspec": {
   "display_name": "Python 3 (ipykernel)",
   "language": "python",
   "name": "python3"
  },
  "language_info": {
   "codemirror_mode": {
    "name": "ipython",
    "version": 3
   },
   "file_extension": ".py",
   "mimetype": "text/x-python",
   "name": "python",
   "nbconvert_exporter": "python",
   "pygments_lexer": "ipython3",
   "version": "3.10.9"
  }
 },
 "nbformat": 4,
 "nbformat_minor": 5
}
